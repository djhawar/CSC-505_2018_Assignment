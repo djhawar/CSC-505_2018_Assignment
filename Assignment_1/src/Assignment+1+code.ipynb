{
 "cells": [
  {
   "cell_type": "markdown",
   "metadata": {},
   "source": [
    "Read the given .csv file as a dictionary named as stu_dict and print it out"
   ]
  },
  {
   "cell_type": "code",
   "execution_count": 1,
   "metadata": {},
   "outputs": [
    {
     "name": "stdout",
     "output_type": "stream",
     "text": [
      "{'Cody Cothern': '607252', 'Evan Crabtree': '90387', 'Luke Davis': '812917', 'Oana Dumitrescu': '928538', 'Maclean Frazier': '919611', 'Blair Gentry': '289174', 'Rohit Gulia': '718591', 'Logan Hornbuckle': '668967', 'darpan Jhawar': '166174', 'Phillip Jones': '342206', 'Mouna Kalidindi': '540365', 'Kevin Keomalaythong': '130722', 'Eury Kim': '682504', 'Jonathan Langston': '115719', 'Thien Le': '238467', 'Garrett Mostella': '665278', 'Justin Oakley': '201430', 'Yang Peng': '671702', 'Richard Powell': '838561', 'Gregory Purvine': '94877', 'Evan Rhoades': '879020', 'Bety Rostandy': '88452', 'Saed Sayedahmed': '662179', 'Syed Ahzaz Shah': '492924', 'Matthew Smitherman': '116847', 'Hadi Soufi': '756405', 'Charles Stamey': '42604', 'Linh Tran': '689359', 'Spencer Whyatt': '497988', 'Daniel Wingo': '804939', 'Shiyang Xiao': '718927', 'Bhavana Yennam': '91253', 'Hao Zhang': '52621'}\n"
     ]
    }
   ],
   "source": [
    "import csv\n",
    "\n",
    "reader = csv.DictReader(open(r'CSC-505_2018/Assignments/Assignment_1/data/student_list.csv'))\n",
    "stu_dict = {}\n",
    "\n",
    "for row in reader:\n",
    "    stu_dict[row['Student']] = row['Rand_ID']\n",
    "print(stu_dict)"
   ]
  },
  {
   "cell_type": "markdown",
   "metadata": {},
   "source": [
    "Create a function called random_group which groups the dictionary into teams of given size and print the groups."
   ]
  },
  {
   "cell_type": "code",
   "execution_count": 2,
   "metadata": {},
   "outputs": [
    {
     "name": "stdout",
     "output_type": "stream",
     "text": [
      "[('Hadi Soufi', '756405'), ('Luke Davis', '812917'), ('Spencer Whyatt', '497988'), ('Linh Tran', '689359'), ('Richard Powell', '838561'), ('Maclean Frazier', '919611')] \n",
      "\n",
      "[('Evan Crabtree', '90387'), ('Syed Ahzaz Shah', '492924'), ('Daniel Wingo', '804939'), ('Rohit Gulia', '718591'), ('Charles Stamey', '42604'), ('Shiyang Xiao', '718927')] \n",
      "\n",
      "[('Oana Dumitrescu', '928538'), ('Blair Gentry', '289174'), ('Phillip Jones', '342206'), ('Matthew Smitherman', '116847'), ('Yang Peng', '671702'), ('darpan Jhawar', '166174')] \n",
      "\n",
      "[('Thien Le', '238467'), ('Mouna Kalidindi', '540365'), ('Cody Cothern', '607252'), ('Hao Zhang', '52621'), ('Logan Hornbuckle', '668967'), ('Eury Kim', '682504')] \n",
      "\n",
      "[('Bety Rostandy', '88452'), ('Jonathan Langston', '115719'), ('Garrett Mostella', '665278'), ('Saed Sayedahmed', '662179'), ('Evan Rhoades', '879020'), ('Kevin Keomalaythong', '130722')] \n",
      "\n",
      "[('Gregory Purvine', '94877'), ('Justin Oakley', '201430'), ('Bhavana Yennam', '91253')] \n",
      "\n"
     ]
    }
   ],
   "source": [
    "import random\n",
    "\n",
    "def random_group(d, size=5):\n",
    "    keys = list(d.keys())\n",
    "    random.shuffle(keys)\n",
    "    for i in range(0, len(keys), size):\n",
    "         yield [(key, d[key]) for key in keys[i:i + size]]\n",
    "\n",
    "#To change team size, change the 'size' variable's value in the function call below                       \n",
    "for group in random_group(stu_dict, size=6):\n",
    "    print(group,'\\n')"
   ]
  },
  {
   "cell_type": "code",
   "execution_count": null,
   "metadata": {
    "collapsed": true
   },
   "outputs": [],
   "source": []
  }
 ],
 "metadata": {
  "kernelspec": {
   "display_name": "Python 3",
   "language": "python",
   "name": "python3"
  },
  "language_info": {
   "codemirror_mode": {
    "name": "ipython",
    "version": 3
   },
   "file_extension": ".py",
   "mimetype": "text/x-python",
   "name": "python",
   "nbconvert_exporter": "python",
   "pygments_lexer": "ipython3",
   "version": "3.6.3"
  }
 },
 "nbformat": 4,
 "nbformat_minor": 2
}
